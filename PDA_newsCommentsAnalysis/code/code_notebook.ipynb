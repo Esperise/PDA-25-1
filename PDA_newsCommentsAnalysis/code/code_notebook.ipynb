{
 "cells": [
  {
   "cell_type": "code",
   "id": "initial_id",
   "metadata": {
    "collapsed": true
   },
   "source": [
    "import re\n",
    "import pandas as pd\n",
    "import numpy as np\n",
    "import torch\n",
    "import os\n",
    "import matplotlib.pyplot as plt\n",
    "import seaborn as sns\n",
    "from transformers import pipeline, AutoTokenizer, AutoModelForSequenceClassification, TextClassificationPipeline\n",
    "from tqdm.notebook import tqdm\n",
    "from collections import Counter\n",
    "# from wordcloud import WordCloud\n",
    "# from konlpy.tag import Okt $\n",
    "import matplotlib.font_manager as fm\n",
    "import urllib.request\n",
    "from urllib.parse import urlparse,parse_qs\n",
    "import requests\n",
    "from bs4 import BeautifulSoup\n",
    "import json\n",
    "import time\n",
    "import datetime\n",
    "import seaborn as sns\n",
    "from sklearn.metrics.pairwise import cosine_similarity\n",
    "import unicodedata\n",
    "import networkx as nx\n",
    "from sklearn.manifold import MDS"
   ],
   "outputs": [],
   "execution_count": null
  },
  {
   "metadata": {},
   "cell_type": "markdown",
   "source": [
    "<h1 style=\"margin:5px;\">파이썬 데이터 분석- 네이버 뉴스 댓글을 통한 각 언론사에서 나타나는 댓글의 특징과 감성분석</h1>\n",
    "<h2>\n",
    "<ul style=\"list-style-type: none\">\n",
    "    <li style=\"\">202304305 정성현</li>\n",
    "    <li style=\"\">202104234 안성준</li>\n",
    "    <li style=\"\">202104241 여동수</li>\n",
    "</ul>\n",
    "</h2>\n",
    "<hr>\n",
    "<h2 style=\"margin:5px;\" >차례</h2>\n",
    "<h3>\n",
    "<ol>\n",
    "  <li> 들어가며</li>\n",
    "  <li> 데이터 소개</li>\n",
    "  <li> 데이터 수집 방법-크롤링</li>\n",
    "  <li> 데이터 분석-댓글 작성자의 언론사 편향</li>\n",
    "  <li> 데이터 분석- 댓글 작성 시간</li>\n",
    "  <li> 데이터 분석- 감정 분석</li>\n",
    "  <li> 데이터 분석-</li>\n",
    "  <li> 결론 </li>\n",
    "  <li> 마치며 </li>\n",
    "</ol>\n",
    "<h3>\n"
   ],
   "id": "c4959380f1e98ea"
  },
  {
   "metadata": {},
   "cell_type": "markdown",
   "source": [
    "<h2> 1. 들어가며 </h2>\n",
    "\n",
    "<p><img src=\"./notebook_img/EAI_2025_1.png\" alt=\"이미지 오류\">\n",
    "<img src=\"./notebook_img/EAI_2025_2.png\" alt=\"이미지 오류\">\n",
    "</p>\n",
    "\n",
    "\n",
    "\n",
    "\n"
   ],
   "id": "b1dbbb9f9b4a70fa"
  },
  {
   "metadata": {},
   "cell_type": "markdown",
   "source": "<h2> 2.데이터 소개 </h2>\n",
   "id": "ff9c58112df953b"
  },
  {
   "metadata": {},
   "cell_type": "code",
   "source": "df=pd.read_csv(\"../src/news_comments\")",
   "id": "7a46dad39282d0d9",
   "outputs": [],
   "execution_count": null
  },
  {
   "metadata": {},
   "cell_type": "code",
   "outputs": [],
   "execution_count": null,
   "source": "df.head(5)",
   "id": "ecabbe8d60d16403"
  }
 ],
 "metadata": {
  "kernelspec": {
   "display_name": "Python 3",
   "language": "python",
   "name": "python3"
  },
  "language_info": {
   "codemirror_mode": {
    "name": "ipython",
    "version": 2
   },
   "file_extension": ".py",
   "mimetype": "text/x-python",
   "name": "python",
   "nbconvert_exporter": "python",
   "pygments_lexer": "ipython2",
   "version": "2.7.6"
  }
 },
 "nbformat": 4,
 "nbformat_minor": 5
}
